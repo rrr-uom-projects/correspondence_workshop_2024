{
 "cells": [
  {
   "cell_type": "code",
   "execution_count": 2,
   "metadata": {},
   "outputs": [
    {
     "name": "stdout",
     "output_type": "stream",
     "text": [
      "parameters: \n",
      "lr :  0.0001   num_it :  75   batch_size :  16   num_timesteps :  0   hidden_dim :  64   lambd :  1   lambd_geo :  50   lambd_arap :  10   log_freq :  10   val_freq :  1   log :  True   \n",
      "Uses module 'InterpolationModGeoEC'\n",
      "389507\n"
     ]
    }
   ],
   "source": [
    "from model.interpolation_net import *\n",
    "from utils.arap import ArapInterpolationEnergy\n",
    "from train import NetParam\n",
    "\n",
    "def get_number_of_learnable_parameters(model):\n",
    "    model_parameters = filter(lambda p: p.requires_grad, model.parameters())\n",
    "    return sum([np.prod(p.size()) for p in model_parameters])\n",
    "\n",
    "model = InterpolationModGeoEC(ArapInterpolationEnergy(), NetParam())\n",
    "\n",
    "print(get_number_of_learnable_parameters(model))"
   ]
  }
 ],
 "metadata": {
  "kernelspec": {
   "display_name": "eds_dl_env",
   "language": "python",
   "name": "python3"
  },
  "language_info": {
   "codemirror_mode": {
    "name": "ipython",
    "version": 3
   },
   "file_extension": ".py",
   "mimetype": "text/x-python",
   "name": "python",
   "nbconvert_exporter": "python",
   "pygments_lexer": "ipython3",
   "version": "3.8.10"
  },
  "orig_nbformat": 4,
  "vscode": {
   "interpreter": {
    "hash": "13eba609dabd9bcadb28febda5f55dbee5f06acc3c3f54a61ca1c2270705d296"
   }
  }
 },
 "nbformat": 4,
 "nbformat_minor": 2
}
