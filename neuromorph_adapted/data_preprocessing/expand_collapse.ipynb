{
 "cells": [
  {
   "cell_type": "code",
   "execution_count": null,
   "metadata": {},
   "outputs": [],
   "source": [
    "import numpy as np\n",
    "import matplotlib.pyplot as plt\n",
    "import open3d as o3d\n",
    "from edge_functions import *\n",
    "\n",
    "eg_mesh = \"/home/ed/correspondence/data/w_imaging_7_19_19/meshes/parotid_lt_TCGA-CV-7245.ply\"\n",
    "mesh = o3d.io.read_triangle_mesh(eg_mesh)\n",
    "verts = np.asarray(mesh.vertices)\n",
    "faces = np.asarray(mesh.triangles)\n",
    "verts = verts[:6]\n",
    "faces = faces[:4]"
   ]
  },
  {
   "cell_type": "code",
   "execution_count": null,
   "metadata": {},
   "outputs": [],
   "source": [
    "fig, ax = plt.subplots(1, 1, figsize=(5, 5))\n",
    "for vert in verts:\n",
    "    ax.scatter(vert[0], vert[2], c=\"r\")\n",
    "for face in faces:\n",
    "    x_s = [verts[face[0]][0], verts[face[1]][0], verts[face[2]][0], verts[face[0]][0]]\n",
    "    y_s = [verts[face[0]][2], verts[face[1]][2], verts[face[2]][2], verts[face[0]][2]]\n",
    "    ax.plot(x_s, y_s, c=\"b\")\n",
    "#ax.plot([verts[longest_edge[0]][0], verts[longest_edge[1]][0]], [verts[longest_edge[0]][2],verts[longest_edge[1]][2]], c=\"g\")\n",
    "\n",
    "longest_edge, longest_edge_len = find_longest_edge(verts, faces)\n",
    "shortest_edge, shortest_edge_len = find_shortest_edge(verts, faces)\n",
    "\n",
    "ax.plot([verts[shortest_edge[0]][0], verts[shortest_edge[1]][0]], [verts[shortest_edge[0]][2],verts[shortest_edge[1]][2]], c=\"g\")\n",
    "ax.plot([verts[longest_edge[0]][0], verts[longest_edge[1]][0]], [verts[longest_edge[0]][2],verts[longest_edge[1]][2]], c=\"r\")\n",
    "ax.set_xlim(-32.5, -24.5)\n",
    "ax.set_ylim(-3, 5)\n",
    "ax.axis(\"off\")\n",
    "plt.show()"
   ]
  },
  {
   "cell_type": "code",
   "execution_count": null,
   "metadata": {},
   "outputs": [],
   "source": [
    "verts_new, faces_new = split_long_edges(verts, faces, iterations=4)\n",
    "# verts_new, faces_new = split_long_edges(verts, faces, max_edge_len=3.0)\n",
    "\n",
    "for i in range(10):\n",
    "    verts_new, faces_new = split_long_edges(verts_new, faces_new, iterations=1)\n",
    "    verts_new, faces_new = collapse_short_edges(verts_new, faces_new, iterations=1)"
   ]
  },
  {
   "cell_type": "code",
   "execution_count": null,
   "metadata": {},
   "outputs": [],
   "source": [
    "fig, ax = plt.subplots(1, 1, figsize=(10, 10))\n",
    "for vert in verts_new:\n",
    "    ax.scatter(vert[0], vert[2], c=\"r\")\n",
    "for face in faces_new:\n",
    "    x_s = [verts_new[face[0]][0], verts_new[face[1]][0], verts_new[face[2]][0], verts_new[face[0]][0]]\n",
    "    y_s = [verts_new[face[0]][2], verts_new[face[1]][2], verts_new[face[2]][2], verts_new[face[0]][2]]\n",
    "    ax.plot(x_s, y_s, c=\"b\")\n",
    "ax.axis(\"off\")\n",
    "\n",
    "for vdx, vert in enumerate(verts_new):\n",
    "    ax.text(vert[0], vert[2], str(vdx), fontsize=12)\n",
    "\n",
    "edge_index = faces_to_edge_index(faces_new)\n",
    "unique_edges = get_unique_single_edges(edge_index)\n",
    "\n",
    "for fdx, face in enumerate(faces_new):\n",
    "    ax.text(np.mean(verts_new[face][:,0]), np.mean(verts_new[face][:,2]), str(fdx), fontsize=12)\n",
    "\n",
    "ax.set_xlim(-32.5, -24.5)\n",
    "ax.set_ylim(-3, 5)\n",
    "\n",
    "shortest_edge, _ = find_shortest_edge(verts_new, faces_new)\n",
    "longest_edge, _ = find_longest_edge(verts_new, faces_new)\n",
    "ax.plot([verts_new[shortest_edge[0]][0], verts_new[shortest_edge[1]][0]], [verts_new[shortest_edge[0]][2],verts_new[shortest_edge[1]][2]], c=\"g\")\n",
    "ax.plot([verts_new[longest_edge[0]][0], verts_new[longest_edge[1]][0]], [verts_new[longest_edge[0]][2],verts_new[longest_edge[1]][2]], c=\"r\")\n",
    "plt.show()"
   ]
  }
 ],
 "metadata": {
  "kernelspec": {
   "display_name": "eds_dl_env",
   "language": "python",
   "name": "python3"
  },
  "language_info": {
   "codemirror_mode": {
    "name": "ipython",
    "version": 3
   },
   "file_extension": ".py",
   "mimetype": "text/x-python",
   "name": "python",
   "nbconvert_exporter": "python",
   "pygments_lexer": "ipython3",
   "version": "3.8.10"
  },
  "orig_nbformat": 4
 },
 "nbformat": 4,
 "nbformat_minor": 2
}
